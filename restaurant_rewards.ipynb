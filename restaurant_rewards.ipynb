{
 "cells": [
  {
   "cell_type": "code",
   "execution_count": 2,
   "id": "2702ab35",
   "metadata": {},
   "outputs": [
    {
     "name": "stdout",
     "output_type": "stream",
     "text": [
      "simon is my mini me\n",
      "5\n"
     ]
    }
   ],
   "source": [
    "print(\"simon is my mini me\")\n",
    "print(5)\n"
   ]
  },
  {
   "cell_type": "markdown",
   "id": "b94f4be2",
   "metadata": {},
   "source": [
    "what's up everbody\n",
    "\n"
   ]
  },
  {
   "cell_type": "markdown",
   "id": "c8477704",
   "metadata": {},
   "source": [
    "what's up everbody\n",
    "\n"
   ]
  },
  {
   "cell_type": "markdown",
   "id": "02d015d2",
   "metadata": {},
   "source": [
    "what's up everbody\n",
    "\n"
   ]
  },
  {
   "cell_type": "code",
   "execution_count": 4,
   "id": "7f43dca3",
   "metadata": {},
   "outputs": [
    {
     "name": "stdout",
     "output_type": "stream",
     "text": [
      "hi\n",
      "hi\n",
      "hi\n",
      "hi\n",
      "hi\n"
     ]
    }
   ],
   "source": [
    "for word in \"simon\":\n",
    "    print (\"hi\")"
   ]
  }
 ],
 "metadata": {
  "kernelspec": {
   "display_name": "Python 3 (ipykernel)",
   "language": "python",
   "name": "python3"
  },
  "language_info": {
   "codemirror_mode": {
    "name": "ipython",
    "version": 3
   },
   "file_extension": ".py",
   "mimetype": "text/x-python",
   "name": "python",
   "nbconvert_exporter": "python",
   "pygments_lexer": "ipython3",
   "version": "3.11.5"
  }
 },
 "nbformat": 4,
 "nbformat_minor": 5
}
